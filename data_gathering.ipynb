{
 "cells": [
  {
   "cell_type": "code",
   "execution_count": 240,
   "id": "f51798f3",
   "metadata": {},
   "outputs": [],
   "source": [
    "from bs4 import BeautifulSoup\n",
    "import re\n",
    "import requests\n",
    "import json\n",
    "f = open(\"API.txt\", \"r\")\n",
    "key = f.readline()\n",
    "f.close()"
   ]
  },
  {
   "cell_type": "code",
   "execution_count": 238,
   "id": "147641e6",
   "metadata": {},
   "outputs": [],
   "source": [
    "def get_top_200_population_city():\n",
    "    url_city = \"https://www.michigan-demographics.com/cities_by_population\"\n",
    "    page = requests.get(url_city)\n",
    "    soup = BeautifulSoup(page.content, 'html.parser')\n",
    "    city_table = soup.find_all(\"table\", class_=\"ranklist\")\n",
    "    city_list = [] \n",
    "    for i in city_table: \n",
    "        name = i.find_all('td')\n",
    "        for j in name:\n",
    "            if re.search(r'[~^0-9]',j.text) != None:\n",
    "                pass\n",
    "            else:\n",
    "                text = re.sub('\\n','',j.text)\n",
    "                text = re.sub(' ','',text)\n",
    "                city_list.append(text)\n",
    "    top200_city_population = city_list[0:200]\n",
    "    return top200_city_population\n",
    "    "
   ]
  },
  {
   "cell_type": "code",
   "execution_count": 244,
   "id": "e0abb9ac",
   "metadata": {},
   "outputs": [],
   "source": [
    "def get_restaurant(location,offset):\n",
    "    url='https://api.yelp.com/v3/businesses/search'\n",
    "    headers = {\n",
    "    \"accept\": \"application/json\",\n",
    "    \"Authorization\": key\n",
    "    }\n",
    "    params = {'term':'restaurants','location':location,\"radius\" : 40000,\"limit\":50\\\n",
    "              ,\"offset\":offset,\"locale\":\"en_US\"}\n",
    "\n",
    "    response = requests.get(url, params=params, headers=headers)\n",
    "    result = json.loads(response.text)[\"businesses\"]\n",
    "    return (result)\n"
   ]
  },
  {
   "cell_type": "code",
   "execution_count": null,
   "id": "72c6ec4c",
   "metadata": {},
   "outputs": [],
   "source": [
    "class location: \n",
    "    def __init__(self, name=\"None\",price= \"None\",review_count=\"None\",rating = \"None\",categories = \"None\" ,id_res= 'None', city=\"None\", location=\"None\",\\\n",
    "                 cord = 'None',url = \"None\",json = None):"
   ]
  },
  {
   "cell_type": "code",
   "execution_count": null,
   "id": "83d589e1",
   "metadata": {},
   "outputs": [],
   "source": [
    "class location: \n",
    "    def __init__(self,cursion )"
   ]
  },
  {
   "cell_type": "code",
   "execution_count": 355,
   "id": "abc566ef",
   "metadata": {},
   "outputs": [],
   "source": [
    "class restaurant:\n",
    "    \n",
    "    def __init__(self, name=\"None\",price= \"None\",review_count=\"None\",rating = \"None\",categories = \"None\" ,id_res= 'None', city=\"None\", location=\"None\",\\\n",
    "                 cord = 'None',url = \"None\",json = None):\n",
    "        if json != None:\n",
    "            self.name = json['name']\n",
    "            self.price = json['price']\n",
    "            self.review_count = json['review_count']\n",
    "            self.rating = json['rating']\n",
    "            self.categories = []\n",
    "            for tag in json['categories']:\n",
    "                self.categories.append(tag[\"title\"])\n",
    "            self.id_res = ['id_res']\n",
    "            self.city = json['location']['city']\n",
    "            self.location = json['location'][\"display_address\"]\n",
    "            self.cord = json['coordinates']\n",
    "            self.url = json['url']\n",
    "        else:\n",
    "            self.name = name\n",
    "            self.price = price\n",
    "            self.review_count = review_count\n",
    "            self.rating = rating\n",
    "            self.categories = categories\n",
    "            self.id_res = id_res\n",
    "            self.city = city\n",
    "            self.location = location\n",
    "            self.cord = cord\n",
    "            self.url = url\n",
    "    \n",
    "    def get_categories(self,categories):\n",
    "        if categories == \"None\":\n",
    "            return None\n",
    "        else:\n",
    "            str_cate = \"\"\n",
    "            for i in categories:\n",
    "                str_cate = str_cate + i + \"; \"\n",
    "        return str_cate\n",
    "    \n",
    "    def __str__ (self):\n",
    "        return \"name : \" + self.name +\"\\n\"+ \"price : \" + self.price +\"\\n\"+  \"review_count : \" + str(self.review_count) +\"\\n\"+ \"rating : \" + str(self.rating) +\"\\n\"+ \"categories : \" + self.get_categories(self.categories) +\"\\n\"+ \"url : \" + self.url +\"\\n\"\n",
    "                \n",
    "        "
   ]
  }
 ],
 "metadata": {
  "kernelspec": {
   "display_name": "Python 3 (ipykernel)",
   "language": "python",
   "name": "python3"
  },
  "language_info": {
   "codemirror_mode": {
    "name": "ipython",
    "version": 3
   },
   "file_extension": ".py",
   "mimetype": "text/x-python",
   "name": "python",
   "nbconvert_exporter": "python",
   "pygments_lexer": "ipython3",
   "version": "3.8.13"
  }
 },
 "nbformat": 4,
 "nbformat_minor": 5
}
